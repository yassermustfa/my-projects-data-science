{
 "cells": [
  {
   "cell_type": "code",
   "execution_count": 1,
   "metadata": {},
   "outputs": [],
   "source": [
    "import pandas as pd\n",
    "from requests_html import HTMLSession"
   ]
  },
  {
   "cell_type": "code",
   "execution_count": 2,
   "metadata": {
    "scrolled": true
   },
   "outputs": [],
   "source": [
    "def get_links(url):\n",
    "    session = HTMLSession()\n",
    "    r = session.get(url)\n",
    "    links = []\n",
    "    for article_url in r.html.find('a.headline'):\n",
    "        if 'href' in article_url.attrs:\n",
    "            links.append(article_url.attrs['href'])\n",
    "    return links"
   ]
  },
  {
   "cell_type": "code",
   "execution_count": 3,
   "metadata": {},
   "outputs": [
    {
     "data": {
      "text/plain": [
       "['https://www.birminghammail.co.uk/news/midlands-news/man-cleared-raping-student-city-18838321',\n",
       " 'https://www.birminghammail.co.uk/news/midlands-news/watch-shocking-120mph-police-chase-18855257',\n",
       " 'https://www.birminghammail.co.uk/news/midlands-news/violent-moseley-thug-kicked-woman-18837561',\n",
       " 'https://www.birminghammail.co.uk/news/midlands-news/remorseless-killer-who-stabbed-kingstanding-18825294',\n",
       " 'https://www.birminghammail.co.uk/news/midlands-news/schoolboys-15-arrested-after-swords-18852777']"
      ]
     },
     "execution_count": 3,
     "metadata": {},
     "output_type": "execute_result"
    }
   ],
   "source": [
    "links = get_links('https://www.birminghammail.co.uk/all-about/crime')\n",
    "links[:5]"
   ]
  },
  {
   "cell_type": "code",
   "execution_count": 4,
   "metadata": {},
   "outputs": [],
   "source": [
    "def get_articles(links):\n",
    "    link = []\n",
    "    title = []\n",
    "    description = []\n",
    "    author = []\n",
    "    date_published = []\n",
    "    date_updated = []\n",
    "    article = []\n",
    "    for url in links:\n",
    "        session = HTMLSession()\n",
    "        r = session.get(url)\n",
    "        link.append(url)\n",
    "        try:\n",
    "            title.append(r.html.find('h1.section-theme-background-indicator.publication-font', first=True).text)\n",
    "        except: title.append(None)\n",
    "            \n",
    "        try:\n",
    "            description.append(r.html.find('p.sub-title', first=True).text)\n",
    "        except: description.append(None)\n",
    "            \n",
    "        try:\n",
    "            author.append(r.html.find('a.publication-theme', first=True).text)\n",
    "        except: author.append(None)\n",
    "            \n",
    "        try:\n",
    "            date_published_element = r.html.find('time.date-published', first=True)\n",
    "            if 'datetime' in date_published_element.attrs:\n",
    "                date_published.append(date_published_element.attrs['datetime'])\n",
    "        except: date_published.append(None)\n",
    "            \n",
    "        try:\n",
    "            date_updated_element = r.html.find('time.date-updated', first=True)\n",
    "            if 'datetime' in date_updated_element.attrs:\n",
    "                date_updated.append(date_updated_element.attrs['datetime'])\n",
    "        except: date_updated.append(None)\n",
    "            \n",
    "        try:\n",
    "            article_paragraphs = []\n",
    "            for article_paragraph in r.html.find('div.article-body > p'):\n",
    "                article_paragraphs.append(article_paragraph.text)\n",
    "            article.append(article_paragraphs)\n",
    "        except: article.append(None)\n",
    "\n",
    "    articles_dict = {'link': link, 'title': title, 'description': description, 'article': article,\n",
    "                     'author': author, 'date_published': date_published, 'date_updated': date_updated}\n",
    "    return articles_dict "
   ]
  },
  {
   "cell_type": "code",
   "execution_count": 5,
   "metadata": {},
   "outputs": [],
   "source": [
    "articles_dict = get_articles(links)"
   ]
  },
  {
   "cell_type": "code",
   "execution_count": 6,
   "metadata": {},
   "outputs": [
    {
     "data": {
      "text/plain": [
       "dict_keys(['link', 'title', 'description', 'article', 'author', 'date_published', 'date_updated'])"
      ]
     },
     "execution_count": 6,
     "metadata": {},
     "output_type": "execute_result"
    }
   ],
   "source": [
    "articles_dict.keys()"
   ]
  },
  {
   "cell_type": "code",
   "execution_count": 7,
   "metadata": {},
   "outputs": [
    {
     "data": {
      "text/plain": [
       "24"
      ]
     },
     "execution_count": 7,
     "metadata": {},
     "output_type": "execute_result"
    }
   ],
   "source": [
    "#print(articles_dict['article'][1])\n",
    "len(articles_dict['article'])"
   ]
  },
  {
   "cell_type": "code",
   "execution_count": 8,
   "metadata": {},
   "outputs": [
    {
     "data": {
      "text/html": [
       "<div>\n",
       "<style scoped>\n",
       "    .dataframe tbody tr th:only-of-type {\n",
       "        vertical-align: middle;\n",
       "    }\n",
       "\n",
       "    .dataframe tbody tr th {\n",
       "        vertical-align: top;\n",
       "    }\n",
       "\n",
       "    .dataframe thead th {\n",
       "        text-align: right;\n",
       "    }\n",
       "</style>\n",
       "<table border=\"1\" class=\"dataframe\">\n",
       "  <thead>\n",
       "    <tr style=\"text-align: right;\">\n",
       "      <th></th>\n",
       "      <th>link</th>\n",
       "      <th>title</th>\n",
       "      <th>description</th>\n",
       "      <th>article</th>\n",
       "      <th>author</th>\n",
       "      <th>date_published</th>\n",
       "      <th>date_updated</th>\n",
       "    </tr>\n",
       "  </thead>\n",
       "  <tbody>\n",
       "    <tr>\n",
       "      <th>0</th>\n",
       "      <td>https://www.birminghammail.co.uk/news/midlands...</td>\n",
       "      <td>Man cleared of raping student at Birmingham ci...</td>\n",
       "      <td>Jamie Seaton met a student at a city centre pu...</td>\n",
       "      <td>[A man has been cleared of raping a student he...</td>\n",
       "      <td>Ross McCarthy</td>\n",
       "      <td>2020-08-31T14:00:00Z</td>\n",
       "      <td>2020-08-31T14:50:56Z</td>\n",
       "    </tr>\n",
       "    <tr>\n",
       "      <th>1</th>\n",
       "      <td>https://www.birminghammail.co.uk/news/midlands...</td>\n",
       "      <td>Watch shocking 120mph police chase which start...</td>\n",
       "      <td>A motorist led police on a 120mph pursuit over...</td>\n",
       "      <td>[This is the shocking footage of a 120mph poli...</td>\n",
       "      <td>Ben Perrin</td>\n",
       "      <td>2020-08-31T12:26:53Z</td>\n",
       "      <td>None</td>\n",
       "    </tr>\n",
       "    <tr>\n",
       "      <th>2</th>\n",
       "      <td>https://www.birminghammail.co.uk/news/midlands...</td>\n",
       "      <td>Violent Moseley thug kicked woman in head in d...</td>\n",
       "      <td>A judge admits taking 'huge risk' by not sendi...</td>\n",
       "      <td>[A violent thug kicked a woman in the head whi...</td>\n",
       "      <td>Carl Jackson</td>\n",
       "      <td>2020-08-31T04:30:00Z</td>\n",
       "      <td>2020-08-31T06:52:12Z</td>\n",
       "    </tr>\n",
       "    <tr>\n",
       "      <th>3</th>\n",
       "      <td>https://www.birminghammail.co.uk/news/midlands...</td>\n",
       "      <td>Remorseless killer who stabbed Kingstanding lo...</td>\n",
       "      <td>Peter Hastings knifed Jean Bellis 29 times in ...</td>\n",
       "      <td>[A remorseless killer was caught after he unwi...</td>\n",
       "      <td>Ben Perrin</td>\n",
       "      <td>2020-08-31T04:30:00Z</td>\n",
       "      <td>2020-08-31T06:52:46Z</td>\n",
       "    </tr>\n",
       "    <tr>\n",
       "      <th>4</th>\n",
       "      <td>https://www.birminghammail.co.uk/news/midlands...</td>\n",
       "      <td>Schoolboys, 15, arrested after swords and mach...</td>\n",
       "      <td>Three teenagers were taken into custody for qu...</td>\n",
       "      <td>[Schoolboys have been arrested after a broad d...</td>\n",
       "      <td>Stephanie Balloo</td>\n",
       "      <td>2020-08-30T15:31:19Z</td>\n",
       "      <td>2020-08-30T15:32:37Z</td>\n",
       "    </tr>\n",
       "  </tbody>\n",
       "</table>\n",
       "</div>"
      ],
      "text/plain": [
       "                                                link  \\\n",
       "0  https://www.birminghammail.co.uk/news/midlands...   \n",
       "1  https://www.birminghammail.co.uk/news/midlands...   \n",
       "2  https://www.birminghammail.co.uk/news/midlands...   \n",
       "3  https://www.birminghammail.co.uk/news/midlands...   \n",
       "4  https://www.birminghammail.co.uk/news/midlands...   \n",
       "\n",
       "                                               title  \\\n",
       "0  Man cleared of raping student at Birmingham ci...   \n",
       "1  Watch shocking 120mph police chase which start...   \n",
       "2  Violent Moseley thug kicked woman in head in d...   \n",
       "3  Remorseless killer who stabbed Kingstanding lo...   \n",
       "4  Schoolboys, 15, arrested after swords and mach...   \n",
       "\n",
       "                                         description  \\\n",
       "0  Jamie Seaton met a student at a city centre pu...   \n",
       "1  A motorist led police on a 120mph pursuit over...   \n",
       "2  A judge admits taking 'huge risk' by not sendi...   \n",
       "3  Peter Hastings knifed Jean Bellis 29 times in ...   \n",
       "4  Three teenagers were taken into custody for qu...   \n",
       "\n",
       "                                             article            author  \\\n",
       "0  [A man has been cleared of raping a student he...     Ross McCarthy   \n",
       "1  [This is the shocking footage of a 120mph poli...        Ben Perrin   \n",
       "2  [A violent thug kicked a woman in the head whi...      Carl Jackson   \n",
       "3  [A remorseless killer was caught after he unwi...        Ben Perrin   \n",
       "4  [Schoolboys have been arrested after a broad d...  Stephanie Balloo   \n",
       "\n",
       "         date_published          date_updated  \n",
       "0  2020-08-31T14:00:00Z  2020-08-31T14:50:56Z  \n",
       "1  2020-08-31T12:26:53Z                  None  \n",
       "2  2020-08-31T04:30:00Z  2020-08-31T06:52:12Z  \n",
       "3  2020-08-31T04:30:00Z  2020-08-31T06:52:46Z  \n",
       "4  2020-08-30T15:31:19Z  2020-08-30T15:32:37Z  "
      ]
     },
     "execution_count": 8,
     "metadata": {},
     "output_type": "execute_result"
    }
   ],
   "source": [
    "pd.DataFrame(articles_dict).head()"
   ]
  },
  {
   "cell_type": "code",
   "execution_count": null,
   "metadata": {},
   "outputs": [],
   "source": []
  }
 ],
 "metadata": {
  "kernelspec": {
   "display_name": "Python 3",
   "language": "python",
   "name": "python3"
  },
  "language_info": {
   "codemirror_mode": {
    "name": "ipython",
    "version": 3
   },
   "file_extension": ".py",
   "mimetype": "text/x-python",
   "name": "python",
   "nbconvert_exporter": "python",
   "pygments_lexer": "ipython3",
   "version": "3.8.3"
  }
 },
 "nbformat": 4,
 "nbformat_minor": 4
}

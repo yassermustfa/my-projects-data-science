{
 "cells": [
  {
   "cell_type": "markdown",
   "metadata": {},
   "source": [
    "## Introduction\n",
    "This notebook consists of two parts:     \n",
    "1- Outlier Detection     \n",
    "2- Report   "
   ]
  },
  {
   "cell_type": "markdown",
   "metadata": {},
   "source": [
    "## 1- Outlier Detection\n",
    "Consider the following scenario: a process generates a set of instances, each instance is encoded as a string of characters; at random times and in no particular order, some event is responsible for the generation of outliers. Each instance is either an inlier or an outlier.\n",
    "\n",
    "Your task is to devise a program that can detect outliers among the instances, i.e. the program should classify each instance as either inlier and outlier. You may use any machine learning library, or software packages. We provide a single text file: test.data, which contains a random mixture of instances and outliers in no particular order."
   ]
  },
  {
   "cell_type": "markdown",
   "metadata": {},
   "source": [
    "### Functions\n",
    "The following functions were created to read, encode/decode a sequence of characters, modeling and predicting data, and visualizing results. "
   ]
  },
  {
   "cell_type": "code",
   "execution_count": 87,
   "metadata": {},
   "outputs": [],
   "source": [
    "import pandas as pd\n",
    "import pandas_profiling\n",
    "import numpy as np\n",
    "from collections import Counter\n",
    "import matplotlib.pyplot as plt\n",
    "from keras.preprocessing.sequence import pad_sequences\n",
    "from sklearn.preprocessing import StandardScaler, MinMaxScaler\n",
    "from keras.models import Model, load_model\n",
    "from keras.layers import Input, Dense, Dropout, LSTM\n",
    "from keras.callbacks import ModelCheckpoint, TensorBoard\n",
    "from keras import regularizers\n",
    "import seaborn as sns\n",
    "%matplotlib inline\n",
    "from pylab import rcParams\n",
    "rcParams['figure.figsize'] = 14, 8\n",
    "sns.set(style = 'whitegrid', palette = 'muted', font_scale = 1.5)\n",
    "import warnings\n",
    "warnings.filterwarnings(\"ignore\")\n",
    "\n",
    "# 1\n",
    "def importing_data(path):\n",
    "    ''' importing data '''\n",
    "    df = pd.read_csv(path, sep=\" \", header=None)\n",
    "    return df\n",
    "\n",
    "#Build the char index that we will use to encode seqs to numbers\n",
    "char_index = 'abcdefghijklmnopqrstuvwxyz'\n",
    "char_index +='ABCDEFGHIJKLMNOPQRSTUVWXYZ'\n",
    "char_index += '0123456789'\n",
    "char_index += '().,-/+=&$?@#!*:;_[]|%⸏{}\\\"\\'' + ' ' +'\\\\'\n",
    "\n",
    "char_to_int = dict((c, i) for i, c in enumerate(char_index))\n",
    "int_to_char = dict((i, c) for i, c in enumerate(char_index))\n",
    "# 2\n",
    "def encode_sequence_char(seq_strs, feat_n=0):\n",
    "    ''' convert a character sequence into numbers sequence '''\n",
    "    encoded_seqs = []\n",
    "    for seq in seq_strs:\n",
    "        encoded_seq = [char_to_int[c] for c in seq]\n",
    "        encoded_seqs.append(encoded_seq)\n",
    "    if(feat_n > 0):\n",
    "        encoded_seqs.append(np.zeros(feat_n))\n",
    "    return pad_sequences(encoded_seqs, padding = 'post')\n",
    "\n",
    "# 3\n",
    "def decode_sequence_char(seq_strs):\n",
    "    ''' convert a number sequence into a character sequence '''\n",
    "    decoded_seqs = []\n",
    "    for seq in seq_strs:\n",
    "        decoded_seq = [int_to_char[i] for i in seq]\n",
    "        decoded_seqs.append(decoded_seq)\n",
    "    return decoded_seqs\n",
    "\n",
    "#%% "
   ]
  },
  {
   "cell_type": "code",
   "execution_count": 88,
   "metadata": {},
   "outputs": [
    {
     "name": "stdout",
     "output_type": "stream",
     "text": [
      "Numby version 1.16.5\n",
      "Pandas version 0.25.1\n",
      "Matplotlib version 3.1.1\n",
      "Seaborn version 0.9.0\n",
      "Sklearn version 0.21.3\n",
      "Keras version 2.3.1\n"
     ]
    }
   ],
   "source": [
    "#print module versions for reproducibility\n",
    "import matplotlib\n",
    "import keras\n",
    "print('Numby version {}'.format(np.__version__))\n",
    "print('Pandas version {}'.format(pd.__version__))\n",
    "print('Matplotlib version {}'.format(matplotlib.__version__))\n",
    "print('Seaborn version {}'.format(sns.__version__))\n",
    "print('Sklearn version {}'.format(sklearn.__version__))\n",
    "print('Keras version {}'.format(keras.__version__))"
   ]
  },
  {
   "cell_type": "markdown",
   "metadata": {},
   "source": [
    "### Exploring the data"
   ]
  },
  {
   "cell_type": "code",
   "execution_count": 89,
   "metadata": {},
   "outputs": [],
   "source": [
    "data_dir = r'D:\\test.data'    # data path\n",
    "df = importing_data(data_dir)                      # importing data as a pandas dataframe"
   ]
  },
  {
   "cell_type": "code",
   "execution_count": 90,
   "metadata": {},
   "outputs": [
    {
     "data": {
      "text/html": [
       "<div>\n",
       "<style scoped>\n",
       "    .dataframe tbody tr th:only-of-type {\n",
       "        vertical-align: middle;\n",
       "    }\n",
       "\n",
       "    .dataframe tbody tr th {\n",
       "        vertical-align: top;\n",
       "    }\n",
       "\n",
       "    .dataframe thead th {\n",
       "        text-align: right;\n",
       "    }\n",
       "</style>\n",
       "<table border=\"1\" class=\"dataframe\">\n",
       "  <thead>\n",
       "    <tr style=\"text-align: right;\">\n",
       "      <th></th>\n",
       "      <th>0</th>\n",
       "    </tr>\n",
       "  </thead>\n",
       "  <tbody>\n",
       "    <tr>\n",
       "      <td>0</td>\n",
       "      <td>dddddddeidddddfdddhgdddddgdhddddfdddhddededdde...</td>\n",
       "    </tr>\n",
       "    <tr>\n",
       "      <td>1</td>\n",
       "      <td>ddgddddddhgdddddgdhddddfdddhfdedehddeiddededgd...</td>\n",
       "    </tr>\n",
       "    <tr>\n",
       "      <td>2</td>\n",
       "      <td>dddddgdhddddfdddiddedehddeiddeddddddideddddddd...</td>\n",
       "    </tr>\n",
       "    <tr>\n",
       "      <td>3</td>\n",
       "      <td>ehddeiddedddgddddedddddgdhgddehddiddeddfdhiedd...</td>\n",
       "    </tr>\n",
       "    <tr>\n",
       "      <td>4</td>\n",
       "      <td>ddgdddddffddddddiddddhdddeidddddfdddfgdddddddh...</td>\n",
       "    </tr>\n",
       "  </tbody>\n",
       "</table>\n",
       "</div>"
      ],
      "text/plain": [
       "                                                   0\n",
       "0  dddddddeidddddfdddhgdddddgdhddddfdddhddededdde...\n",
       "1  ddgddddddhgdddddgdhddddfdddhfdedehddeiddededgd...\n",
       "2  dddddgdhddddfdddiddedehddeiddeddddddideddddddd...\n",
       "3  ehddeiddedddgddddedddddgdhgddehddiddeddfdhiedd...\n",
       "4  ddgdddddffddddddiddddhdddeidddddfdddfgdddddddh..."
      ]
     },
     "execution_count": 90,
     "metadata": {},
     "output_type": "execute_result"
    }
   ],
   "source": [
    "df.head()"
   ]
  },
  {
   "cell_type": "code",
   "execution_count": 91,
   "metadata": {},
   "outputs": [
    {
     "data": {
      "text/plain": [
       "(600, 1)"
      ]
     },
     "execution_count": 91,
     "metadata": {},
     "output_type": "execute_result"
    }
   ],
   "source": [
    "df.shape"
   ]
  },
  {
   "cell_type": "code",
   "execution_count": 92,
   "metadata": {},
   "outputs": [
    {
     "data": {
      "text/plain": [
       "count                                                   600\n",
       "unique                                                  600\n",
       "top       ddddddghddfhidfdgddeiddfddddddggddddddfddhdddi...\n",
       "freq                                                      1\n",
       "Name: 0, dtype: object"
      ]
     },
     "execution_count": 92,
     "metadata": {},
     "output_type": "execute_result"
    }
   ],
   "source": [
    "df[0].describe()"
   ]
  },
  {
   "cell_type": "code",
   "execution_count": 93,
   "metadata": {},
   "outputs": [
    {
     "data": {
      "text/plain": [
       "600"
      ]
     },
     "execution_count": 93,
     "metadata": {},
     "output_type": "execute_result"
    }
   ],
   "source": [
    "len(df[0][:])"
   ]
  },
  {
   "cell_type": "code",
   "execution_count": 94,
   "metadata": {},
   "outputs": [
    {
     "name": "stdout",
     "output_type": "stream",
     "text": [
      "Counter({'d': 105, 'e': 9, 'i': 9, 'f': 9, 'h': 9, 'g': 9})\n",
      "Counter({'d': 105, 'g': 9, 'h': 9, 'f': 9, 'e': 9, 'i': 9})\n",
      "Counter({'d': 105, 'g': 9, 'h': 9, 'f': 9, 'i': 9, 'e': 9})\n",
      "Counter({'d': 105, 'e': 9, 'h': 9, 'i': 9, 'g': 9, 'f': 9})\n",
      "Counter({'d': 105, 'g': 9, 'f': 9, 'i': 9, 'h': 9, 'e': 9})\n",
      "Counter({'d': 105, 'e': 9, 'h': 9, 'i': 9, 'g': 9, 'f': 9})\n",
      "Counter({'d': 105, 'e': 9, 'i': 9, 'f': 9, 'g': 9, 'h': 9})\n",
      "Counter({'d': 105, 'e': 9, 'h': 9, 'g': 9, 'f': 9, 'i': 9})\n",
      "Counter({'d': 105, 'h': 9, 'g': 9, 'i': 9, 'f': 9, 'e': 9})\n",
      "Counter({'d': 105, 'h': 9, 'g': 9, 'f': 9, 'i': 9, 'e': 9})\n",
      "Counter({'d': 105, 'f': 9, 'e': 9, 'h': 9, 'i': 9, 'g': 9})\n",
      "Counter({'d': 105, 'g': 9, 'f': 9, 'e': 9, 'h': 9, 'i': 9})\n",
      "Counter({'d': 105, 'h': 9, 'e': 9, 'i': 9, 'g': 9, 'f': 9})\n",
      "Counter({'d': 105, 'g': 9, 'h': 9, 'f': 9, 'e': 9, 'i': 9})\n",
      "Counter({'d': 105, 'h': 9, 'f': 9, 'g': 9, 'i': 9, 'e': 9})\n",
      "Counter({'d': 105, 'e': 9, 'g': 9, 'f': 9, 'h': 9, 'i': 9})\n",
      "Counter({'d': 105, 'h': 9, 'i': 9, 'f': 9, 'g': 9, 'e': 9})\n",
      "Counter({'d': 105, 'f': 9, 'h': 9, 'g': 9, 'i': 9, 'e': 9})\n",
      "Counter({'d': 105, 'g': 9, 'i': 9, 'h': 9, 'f': 9, 'e': 9})\n",
      "Counter({'d': 105, 'g': 9, 'f': 9, 'h': 9, 'i': 9, 'e': 9})\n"
     ]
    }
   ],
   "source": [
    "for i in range(20):\n",
    "    print(Counter(df[0][i]))    # list elements of unique charters on each instance\n",
    "    #print(list(Counter(df[0][i]).values()))  # count the elements frequency"
   ]
  },
  {
   "cell_type": "code",
   "execution_count": 95,
   "metadata": {},
   "outputs": [],
   "source": [
    "encoded_seqs = encode_sequence_char(df[0].values.tolist()) # encode each string sequence to an integer array"
   ]
  },
  {
   "cell_type": "code",
   "execution_count": 96,
   "metadata": {},
   "outputs": [
    {
     "name": "stdout",
     "output_type": "stream",
     "text": [
      "dddddddeidddddfdddhgdddddgdhddddfdddhddededddeddiedddgddddedddddddhgddehdhdddeegfdhiddddddidhhddddddddifdddddgfddfdidfdddddiddfdddddgdggddddifddddddid\n",
      "[3 3 3 3 3 3 3 4 8 3 3 3 3 3 5 3 3 3 7 6 3 3 3 3 3 6 3 7 3 3 3 3 5 3 3 3 7\n",
      " 3 3 4 3 4 3 3 3 4 3 3 8 4 3 3 3 6 3 3 3 3 4 3 3 3 3 3 3 3 7 6 3 3 4 7 3 7\n",
      " 3 3 3 4 4 6 5 3 7 8 3 3 3 3 3 3 8 3 7 7 3 3 3 3 3 3 3 3 8 5 3 3 3 3 3 6 5\n",
      " 3 3 5 3 8 3 5 3 3 3 3 3 8 3 3 5 3 3 3 3 3 6 3 6 6 3 3 3 3 8 5 3 3 3 3 3 3\n",
      " 8 3]\n"
     ]
    }
   ],
   "source": [
    "print(df[0][0])          # print the first string sequence before encoding it\n",
    "print(encoded_seqs[0])   # print the first encoded string"
   ]
  },
  {
   "cell_type": "code",
   "execution_count": 97,
   "metadata": {},
   "outputs": [
    {
     "data": {
      "text/plain": [
       "(600, 150)"
      ]
     },
     "execution_count": 97,
     "metadata": {},
     "output_type": "execute_result"
    }
   ],
   "source": [
    "encoded_seqs.shape  # the shape of the new encoded sequence"
   ]
  },
  {
   "cell_type": "code",
   "execution_count": 98,
   "metadata": {},
   "outputs": [],
   "source": [
    "df_enc = pd.DataFrame(encoded_seqs)"
   ]
  },
  {
   "cell_type": "code",
   "execution_count": 99,
   "metadata": {},
   "outputs": [
    {
     "data": {
      "text/html": [
       "<div>\n",
       "<style scoped>\n",
       "    .dataframe tbody tr th:only-of-type {\n",
       "        vertical-align: middle;\n",
       "    }\n",
       "\n",
       "    .dataframe tbody tr th {\n",
       "        vertical-align: top;\n",
       "    }\n",
       "\n",
       "    .dataframe thead th {\n",
       "        text-align: right;\n",
       "    }\n",
       "</style>\n",
       "<table border=\"1\" class=\"dataframe\">\n",
       "  <thead>\n",
       "    <tr style=\"text-align: right;\">\n",
       "      <th></th>\n",
       "      <th>0</th>\n",
       "      <th>1</th>\n",
       "      <th>2</th>\n",
       "      <th>3</th>\n",
       "      <th>4</th>\n",
       "      <th>5</th>\n",
       "      <th>6</th>\n",
       "      <th>7</th>\n",
       "      <th>8</th>\n",
       "      <th>9</th>\n",
       "      <th>...</th>\n",
       "      <th>140</th>\n",
       "      <th>141</th>\n",
       "      <th>142</th>\n",
       "      <th>143</th>\n",
       "      <th>144</th>\n",
       "      <th>145</th>\n",
       "      <th>146</th>\n",
       "      <th>147</th>\n",
       "      <th>148</th>\n",
       "      <th>149</th>\n",
       "    </tr>\n",
       "  </thead>\n",
       "  <tbody>\n",
       "    <tr>\n",
       "      <td>0</td>\n",
       "      <td>3</td>\n",
       "      <td>3</td>\n",
       "      <td>3</td>\n",
       "      <td>3</td>\n",
       "      <td>3</td>\n",
       "      <td>3</td>\n",
       "      <td>3</td>\n",
       "      <td>4</td>\n",
       "      <td>8</td>\n",
       "      <td>3</td>\n",
       "      <td>...</td>\n",
       "      <td>8</td>\n",
       "      <td>5</td>\n",
       "      <td>3</td>\n",
       "      <td>3</td>\n",
       "      <td>3</td>\n",
       "      <td>3</td>\n",
       "      <td>3</td>\n",
       "      <td>3</td>\n",
       "      <td>8</td>\n",
       "      <td>3</td>\n",
       "    </tr>\n",
       "    <tr>\n",
       "      <td>1</td>\n",
       "      <td>3</td>\n",
       "      <td>3</td>\n",
       "      <td>6</td>\n",
       "      <td>3</td>\n",
       "      <td>3</td>\n",
       "      <td>3</td>\n",
       "      <td>3</td>\n",
       "      <td>3</td>\n",
       "      <td>3</td>\n",
       "      <td>7</td>\n",
       "      <td>...</td>\n",
       "      <td>3</td>\n",
       "      <td>3</td>\n",
       "      <td>3</td>\n",
       "      <td>3</td>\n",
       "      <td>3</td>\n",
       "      <td>3</td>\n",
       "      <td>3</td>\n",
       "      <td>3</td>\n",
       "      <td>4</td>\n",
       "      <td>8</td>\n",
       "    </tr>\n",
       "    <tr>\n",
       "      <td>2</td>\n",
       "      <td>3</td>\n",
       "      <td>3</td>\n",
       "      <td>3</td>\n",
       "      <td>3</td>\n",
       "      <td>3</td>\n",
       "      <td>6</td>\n",
       "      <td>3</td>\n",
       "      <td>7</td>\n",
       "      <td>3</td>\n",
       "      <td>3</td>\n",
       "      <td>...</td>\n",
       "      <td>3</td>\n",
       "      <td>3</td>\n",
       "      <td>3</td>\n",
       "      <td>8</td>\n",
       "      <td>5</td>\n",
       "      <td>3</td>\n",
       "      <td>3</td>\n",
       "      <td>3</td>\n",
       "      <td>7</td>\n",
       "      <td>6</td>\n",
       "    </tr>\n",
       "    <tr>\n",
       "      <td>3</td>\n",
       "      <td>4</td>\n",
       "      <td>7</td>\n",
       "      <td>3</td>\n",
       "      <td>3</td>\n",
       "      <td>4</td>\n",
       "      <td>8</td>\n",
       "      <td>3</td>\n",
       "      <td>3</td>\n",
       "      <td>4</td>\n",
       "      <td>3</td>\n",
       "      <td>...</td>\n",
       "      <td>3</td>\n",
       "      <td>5</td>\n",
       "      <td>3</td>\n",
       "      <td>3</td>\n",
       "      <td>3</td>\n",
       "      <td>7</td>\n",
       "      <td>3</td>\n",
       "      <td>3</td>\n",
       "      <td>4</td>\n",
       "      <td>3</td>\n",
       "    </tr>\n",
       "    <tr>\n",
       "      <td>4</td>\n",
       "      <td>3</td>\n",
       "      <td>3</td>\n",
       "      <td>6</td>\n",
       "      <td>3</td>\n",
       "      <td>3</td>\n",
       "      <td>3</td>\n",
       "      <td>3</td>\n",
       "      <td>3</td>\n",
       "      <td>5</td>\n",
       "      <td>5</td>\n",
       "      <td>...</td>\n",
       "      <td>3</td>\n",
       "      <td>8</td>\n",
       "      <td>3</td>\n",
       "      <td>3</td>\n",
       "      <td>5</td>\n",
       "      <td>3</td>\n",
       "      <td>3</td>\n",
       "      <td>3</td>\n",
       "      <td>3</td>\n",
       "      <td>6</td>\n",
       "    </tr>\n",
       "  </tbody>\n",
       "</table>\n",
       "<p>5 rows × 150 columns</p>\n",
       "</div>"
      ],
      "text/plain": [
       "   0    1    2    3    4    5    6    7    8    9    ...  140  141  142  143  \\\n",
       "0    3    3    3    3    3    3    3    4    8    3  ...    8    5    3    3   \n",
       "1    3    3    6    3    3    3    3    3    3    7  ...    3    3    3    3   \n",
       "2    3    3    3    3    3    6    3    7    3    3  ...    3    3    3    8   \n",
       "3    4    7    3    3    4    8    3    3    4    3  ...    3    5    3    3   \n",
       "4    3    3    6    3    3    3    3    3    5    5  ...    3    8    3    3   \n",
       "\n",
       "   144  145  146  147  148  149  \n",
       "0    3    3    3    3    8    3  \n",
       "1    3    3    3    3    4    8  \n",
       "2    5    3    3    3    7    6  \n",
       "3    3    7    3    3    4    3  \n",
       "4    5    3    3    3    3    6  \n",
       "\n",
       "[5 rows x 150 columns]"
      ]
     },
     "execution_count": 99,
     "metadata": {},
     "output_type": "execute_result"
    }
   ],
   "source": [
    "df_enc.head()"
   ]
  },
  {
   "cell_type": "code",
   "execution_count": 100,
   "metadata": {},
   "outputs": [],
   "source": [
    "df_enc.columns = ['a_' + str(x) for x in range(150)]"
   ]
  },
  {
   "cell_type": "code",
   "execution_count": null,
   "metadata": {},
   "outputs": [],
   "source": []
  },
  {
   "cell_type": "code",
   "execution_count": null,
   "metadata": {},
   "outputs": [],
   "source": []
  },
  {
   "cell_type": "code",
   "execution_count": null,
   "metadata": {},
   "outputs": [],
   "source": []
  },
  {
   "cell_type": "code",
   "execution_count": null,
   "metadata": {},
   "outputs": [],
   "source": []
  },
  {
   "cell_type": "markdown",
   "metadata": {},
   "source": [
    "### Prepare the Data and Build an Autoencoder"
   ]
  },
  {
   "cell_type": "code",
   "execution_count": 23,
   "metadata": {},
   "outputs": [],
   "source": [
    "scaler = MinMaxScaler()      # normalizing using MinMaxScaler\n",
    "scaled_seqs = scaler.fit_transform(encoded_seqs)\n",
    "X_train = scaled_seqs[:480]     # split the encoded sequence into 80% training set\n",
    "X_test = scaled_seqs[480:]      # 20% test set"
   ]
  },
  {
   "cell_type": "code",
   "execution_count": 31,
   "metadata": {},
   "outputs": [],
   "source": [
    "input_dim = X_train.shape[1] #features\n",
    "encoding_dim = 8 # first layer\n",
    "hidden_dim = int(encoding_dim / 2)\n",
    "nb_epoch = 200\n",
    "batch_size = 32\n",
    "learning_rate = 0.01\n",
    "input_layer = Input(shape=(input_dim, ))\n",
    "encoder = Dense(encoding_dim, activation = \"tanh\", activity_regularizer = regularizers.l1(10e-5))(input_layer)\n",
    "encoder = Dense(hidden_dim, activation = \"relu\")(encoder)\n",
    "decoder = Dense(hidden_dim, activation = 'relu')(encoder)\n",
    "decoder = Dense(encoding_dim, activation = 'relu')(encoder)\n",
    "decoder = Dense(input_dim, activation = 'tanh')(decoder)\n",
    "autoencoder = Model(inputs=input_layer, outputs=decoder)"
   ]
  },
  {
   "cell_type": "markdown",
   "metadata": {},
   "source": [
    "### Fit the Model"
   ]
  },
  {
   "cell_type": "code",
   "execution_count": 57,
   "metadata": {},
   "outputs": [],
   "source": [
    "autoencoder.compile(optimizer = 'adam', \n",
    "                    loss = 'mean_squared_error', \n",
    "                    metrics = ['accuracy'])\n",
    "\n",
    "checkpointer = ModelCheckpoint(filepath = \"model_seqs2.h5\",\n",
    "                               verbose = 0,\n",
    "                               save_best_only = True)\n",
    "\n",
    "history = autoencoder.fit(X_train, X_train,\n",
    "                    epochs = nb_epoch,\n",
    "                    batch_size = batch_size,\n",
    "                    shuffle = True,\n",
    "                    validation_data = (X_test, X_test),\n",
    "                    verbose = 0,\n",
    "                    callbacks = [checkpointer]).history"
   ]
  },
  {
   "cell_type": "code",
   "execution_count": 40,
   "metadata": {},
   "outputs": [
    {
     "data": {
      "image/png": "[encoded data removed]",
      "text/plain": [
       "<Figure size 1008x576 with 1 Axes>"
      ]
     },
     "metadata": {},
     "output_type": "display_data"
    }
   ],
   "source": [
    "plt.plot(history['loss'])\n",
    "plt.plot(history['val_loss'])\n",
    "plt.title('model loss')\n",
    "plt.ylabel('loss')\n",
    "plt.xlabel('epoch')\n",
    "plt.legend(['train', 'test'], loc='upper right');"
   ]
  },
  {
   "cell_type": "code",
   "execution_count": 41,
   "metadata": {},
   "outputs": [
    {
     "name": "stdout",
     "output_type": "stream",
     "text": [
      "Min Loss:0.09226552446683248\n"
     ]
    }
   ],
   "source": [
    "autoencoder = load_model('model_seqs2.h5')\n",
    "print(f'Min Loss:{np.min(history[\"loss\"])}')"
   ]
  },
  {
   "cell_type": "markdown",
   "metadata": {},
   "source": [
    "### Calculate the Error Term"
   ]
  },
  {
   "cell_type": "code",
   "execution_count": 43,
   "metadata": {},
   "outputs": [
    {
     "name": "stdout",
     "output_type": "stream",
     "text": [
      "MSE: 0.09991868168288971\n"
     ]
    }
   ],
   "source": [
    "#get the MSE error term\n",
    "predictions = autoencoder.predict(scaled_seqs)\n",
    "mse = np.mean(np.power(scaled_seqs - predictions, 2), axis = 1)\n",
    "print('MSE:', np.quantile(mse, 0.99)) # 99% quatile - only 1% have error score higher than that"
   ]
  },
  {
   "cell_type": "markdown",
   "metadata": {},
   "source": [
    "### Calculate the MSE for all the sequences (df)"
   ]
  },
  {
   "cell_type": "code",
   "execution_count": 44,
   "metadata": {},
   "outputs": [],
   "source": [
    "encoded_seqs = encode_sequence_char(df.iloc[:, 0])              #encode all the data\n",
    "scaled_data = MinMaxScaler().fit_transform(encoded_seqs)        #scale the data\n",
    "predicted = autoencoder.predict(scaled_data)                    #predict the data\n",
    "mse = np.mean(np.power(scaled_data - predicted, 2), axis = 1)   # get the error term\n",
    "df['MSE'] = mse    # creat a new column 'MSE' and add the errors to df"
   ]
  },
  {
   "cell_type": "code",
   "execution_count": 45,
   "metadata": {},
   "outputs": [
    {
     "data": {
      "text/html": [
       "<div>\n",
       "<style scoped>\n",
       "    .dataframe tbody tr th:only-of-type {\n",
       "        vertical-align: middle;\n",
       "    }\n",
       "\n",
       "    .dataframe tbody tr th {\n",
       "        vertical-align: top;\n",
       "    }\n",
       "\n",
       "    .dataframe thead th {\n",
       "        text-align: right;\n",
       "    }\n",
       "</style>\n",
       "<table border=\"1\" class=\"dataframe\">\n",
       "  <thead>\n",
       "    <tr style=\"text-align: right;\">\n",
       "      <th></th>\n",
       "      <th>0</th>\n",
       "      <th>MSE</th>\n",
       "    </tr>\n",
       "  </thead>\n",
       "  <tbody>\n",
       "    <tr>\n",
       "      <td>0</td>\n",
       "      <td>dddddddeidddddfdddhgdddddgdhddddfdddhddededdde...</td>\n",
       "      <td>0.079972</td>\n",
       "    </tr>\n",
       "    <tr>\n",
       "      <td>1</td>\n",
       "      <td>ddgddddddhgdddddgdhddddfdddhfdedehddeiddededgd...</td>\n",
       "      <td>0.095622</td>\n",
       "    </tr>\n",
       "    <tr>\n",
       "      <td>2</td>\n",
       "      <td>dddddgdhddddfdddiddedehddeiddeddddddideddddddd...</td>\n",
       "      <td>0.093839</td>\n",
       "    </tr>\n",
       "    <tr>\n",
       "      <td>3</td>\n",
       "      <td>ehddeiddedddgddddedddddgdhgddehddiddeddfdhiedd...</td>\n",
       "      <td>0.093538</td>\n",
       "    </tr>\n",
       "    <tr>\n",
       "      <td>4</td>\n",
       "      <td>ddgdddddffddddddiddddhdddeidddddfdddfgdddddddh...</td>\n",
       "      <td>0.086511</td>\n",
       "    </tr>\n",
       "  </tbody>\n",
       "</table>\n",
       "</div>"
      ],
      "text/plain": [
       "                                                   0       MSE\n",
       "0  dddddddeidddddfdddhgdddddgdhddddfdddhddededdde...  0.079972\n",
       "1  ddgddddddhgdddddgdhddddfdddhfdedehddeiddededgd...  0.095622\n",
       "2  dddddgdhddddfdddiddedehddeiddeddddddideddddddd...  0.093839\n",
       "3  ehddeiddedddgddddedddddgdhgddehddiddeddfdhiedd...  0.093538\n",
       "4  ddgdddddffddddddiddddhdddeidddddfdddfgdddddddh...  0.086511"
      ]
     },
     "execution_count": 45,
     "metadata": {},
     "output_type": "execute_result"
    }
   ],
   "source": [
    "df.head()"
   ]
  },
  {
   "cell_type": "code",
   "execution_count": 47,
   "metadata": {},
   "outputs": [
    {
     "name": "stdout",
     "output_type": "stream",
     "text": [
      "MSE 0.99 threshhold:0.09991868168288971\n"
     ]
    }
   ],
   "source": [
    "mse_threshold = np.quantile(df['MSE'], 0.99)    # add MSE threshold for the outlier\n",
    "print(f'MSE 0.99 threshhold:{mse_threshold}')"
   ]
  },
  {
   "cell_type": "code",
   "execution_count": null,
   "metadata": {},
   "outputs": [],
   "source": []
  },
  {
   "cell_type": "code",
   "execution_count": 48,
   "metadata": {},
   "outputs": [],
   "source": [
    "df['MSE_Outlier'] = 1  # create a new column for the Outliers\n",
    "df.loc[df['MSE'] > mse_threshold, 'MSE_Outlier'] = -1   # if the onstance is an Outlier set it to -1"
   ]
  },
  {
   "cell_type": "code",
   "execution_count": 49,
   "metadata": {},
   "outputs": [
    {
     "data": {
      "text/plain": [
       " 1    594\n",
       "-1      6\n",
       "Name: MSE_Outlier, dtype: int64"
      ]
     },
     "execution_count": 49,
     "metadata": {},
     "output_type": "execute_result"
    }
   ],
   "source": [
    "df['MSE_Outlier'].value_counts()"
   ]
  },
  {
   "cell_type": "markdown",
   "metadata": {},
   "source": [
    "There is 6 outliers"
   ]
  },
  {
   "cell_type": "code",
   "execution_count": 52,
   "metadata": {},
   "outputs": [
    {
     "data": {
      "text/html": [
       "<div>\n",
       "<style scoped>\n",
       "    .dataframe tbody tr th:only-of-type {\n",
       "        vertical-align: middle;\n",
       "    }\n",
       "\n",
       "    .dataframe tbody tr th {\n",
       "        vertical-align: top;\n",
       "    }\n",
       "\n",
       "    .dataframe thead th {\n",
       "        text-align: right;\n",
       "    }\n",
       "</style>\n",
       "<table border=\"1\" class=\"dataframe\">\n",
       "  <thead>\n",
       "    <tr style=\"text-align: right;\">\n",
       "      <th></th>\n",
       "      <th>0</th>\n",
       "      <th>MSE</th>\n",
       "      <th>MSE_Outlier</th>\n",
       "    </tr>\n",
       "  </thead>\n",
       "  <tbody>\n",
       "    <tr>\n",
       "      <td>98</td>\n",
       "      <td>ddidehddddddddiddddddgfddfdidfdgddhiddfhdddddg...</td>\n",
       "      <td>0.100018</td>\n",
       "      <td>-1</td>\n",
       "    </tr>\n",
       "    <tr>\n",
       "      <td>280</td>\n",
       "      <td>fddfdgddddfiddddfdidhdididdddddfddddgddddiddde...</td>\n",
       "      <td>0.100203</td>\n",
       "      <td>-1</td>\n",
       "    </tr>\n",
       "    <tr>\n",
       "      <td>313</td>\n",
       "      <td>dddddddidgddddddieddgdededddddfdidhddeddddhgdd...</td>\n",
       "      <td>0.099988</td>\n",
       "      <td>-1</td>\n",
       "    </tr>\n",
       "    <tr>\n",
       "      <td>536</td>\n",
       "      <td>gddeddddddeegfdhiddddddidhhddddddddifdddddgfdd...</td>\n",
       "      <td>0.100063</td>\n",
       "      <td>-1</td>\n",
       "    </tr>\n",
       "    <tr>\n",
       "      <td>568</td>\n",
       "      <td>gfdhiddddddiddhddddddedifddddddfddddidfggdddid...</td>\n",
       "      <td>0.100167</td>\n",
       "      <td>-1</td>\n",
       "    </tr>\n",
       "    <tr>\n",
       "      <td>573</td>\n",
       "      <td>dfddddddggddddddfdddddddddddddddeiddddfddddhgd...</td>\n",
       "      <td>0.100960</td>\n",
       "      <td>-1</td>\n",
       "    </tr>\n",
       "  </tbody>\n",
       "</table>\n",
       "</div>"
      ],
      "text/plain": [
       "                                                     0       MSE  MSE_Outlier\n",
       "98   ddidehddddddddiddddddgfddfdidfdgddhiddfhdddddg...  0.100018           -1\n",
       "280  fddfdgddddfiddddfdidhdididdddddfddddgddddiddde...  0.100203           -1\n",
       "313  dddddddidgddddddieddgdededddddfdidhddeddddhgdd...  0.099988           -1\n",
       "536  gddeddddddeegfdhiddddddidhhddddddddifdddddgfdd...  0.100063           -1\n",
       "568  gfdhiddddddiddhddddddedifddddddfddddidfggdddid...  0.100167           -1\n",
       "573  dfddddddggddddddfdddddddddddddddeiddddfddddhgd...  0.100960           -1"
      ]
     },
     "execution_count": 52,
     "metadata": {},
     "output_type": "execute_result"
    }
   ],
   "source": [
    "df[df.MSE_Outlier == -1]"
   ]
  },
  {
   "cell_type": "code",
   "execution_count": 56,
   "metadata": {},
   "outputs": [
    {
     "name": "stdout",
     "output_type": "stream",
     "text": [
      "ddidehddddddddiddddddgfddfdidfdgddhiddfhdddddggddddddfddddddiddgdddddeddddddfdddhgfddidgdhddddfdddhdddddhddeidiedddgdeddedddddddhgddehdddddeedfddidddd\n"
     ]
    },
    {
     "data": {
      "text/plain": [
       "Counter({'d': 105, 'i': 9, 'e': 9, 'h': 9, 'g': 9, 'f': 9})"
      ]
     },
     "execution_count": 56,
     "metadata": {},
     "output_type": "execute_result"
    }
   ],
   "source": [
    "print(df[0][98])\n",
    "Counter(df[0][98])"
   ]
  },
  {
   "cell_type": "markdown",
   "metadata": {},
   "source": [
    "### 2- Report        \n",
    "The data contains 6 outliers."
   ]
  },
  {
   "cell_type": "code",
   "execution_count": null,
   "metadata": {},
   "outputs": [],
   "source": []
  },
  {
   "cell_type": "code",
   "execution_count": null,
   "metadata": {},
   "outputs": [],
   "source": []
  }
 ],
 "metadata": {
  "kernelspec": {
   "display_name": "Python 3",
   "language": "python",
   "name": "python3"
  },
  "language_info": {
   "codemirror_mode": {
    "name": "ipython",
    "version": 3
   },
   "file_extension": ".py",
   "mimetype": "text/x-python",
   "name": "python",
   "nbconvert_exporter": "python",
   "pygments_lexer": "ipython3",
   "version": "3.7.4"
  }
 },
 "nbformat": 4,
 "nbformat_minor": 2
}
